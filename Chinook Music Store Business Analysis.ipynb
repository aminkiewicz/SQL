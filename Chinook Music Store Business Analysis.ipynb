{
 "cells": [
  {
   "cell_type": "markdown",
   "id": "6ff909d3",
   "metadata": {},
   "source": [
    "# Chinook Music Store Business Analysis\n",
    "\n",
    "\n",
    "## Background\n",
    "\n",
    "The purpose of this project is to conduct a business analysis using SQL. **Chinook** is a fictional online music store that wants to improve their performance. Using their database, I will try to answer their questions and provide the most efficient solutions."
   ]
  },
  {
   "cell_type": "markdown",
   "id": "a9ec49f1",
   "metadata": {},
   "source": [
    "Below is a copy of the database schema that shows relationships between particular tables:\n",
    "\n",
    "![Chinook database schema](https://s3.amazonaws.com/dq-content/191/chinook-schema.svg)"
   ]
  },
  {
   "cell_type": "markdown",
   "id": "5ecf8a99",
   "metadata": {},
   "source": [
    "First, let's load the database:"
   ]
  },
  {
   "cell_type": "code",
   "execution_count": 3,
   "id": "082bf9dc",
   "metadata": {},
   "outputs": [],
   "source": [
    "%%capture\n",
    "%load_ext sql\n",
    "%sql sqlite:///chinook.db"
   ]
  },
  {
   "cell_type": "markdown",
   "id": "055f8577",
   "metadata": {},
   "source": [
    "Let's see if it's working:"
   ]
  },
  {
   "cell_type": "code",
   "execution_count": 16,
   "id": "a964fa0c",
   "metadata": {},
   "outputs": [
    {
     "name": "stdout",
     "output_type": "stream",
     "text": [
      " * sqlite:///chinook.db\n",
      "Done.\n"
     ]
    },
    {
     "data": {
      "text/html": [
       "<table>\n",
       "    <thead>\n",
       "        <tr>\n",
       "            <th>PlaylistId</th>\n",
       "            <th>Name</th>\n",
       "        </tr>\n",
       "    </thead>\n",
       "    <tbody>\n",
       "        <tr>\n",
       "            <td>1</td>\n",
       "            <td>Music</td>\n",
       "        </tr>\n",
       "        <tr>\n",
       "            <td>2</td>\n",
       "            <td>Movies</td>\n",
       "        </tr>\n",
       "        <tr>\n",
       "            <td>3</td>\n",
       "            <td>TV Shows</td>\n",
       "        </tr>\n",
       "        <tr>\n",
       "            <td>4</td>\n",
       "            <td>Audiobooks</td>\n",
       "        </tr>\n",
       "        <tr>\n",
       "            <td>5</td>\n",
       "            <td>90’s Music</td>\n",
       "        </tr>\n",
       "        <tr>\n",
       "            <td>6</td>\n",
       "            <td>Audiobooks</td>\n",
       "        </tr>\n",
       "        <tr>\n",
       "            <td>7</td>\n",
       "            <td>Movies</td>\n",
       "        </tr>\n",
       "        <tr>\n",
       "            <td>8</td>\n",
       "            <td>Music</td>\n",
       "        </tr>\n",
       "        <tr>\n",
       "            <td>9</td>\n",
       "            <td>Music Videos</td>\n",
       "        </tr>\n",
       "        <tr>\n",
       "            <td>10</td>\n",
       "            <td>TV Shows</td>\n",
       "        </tr>\n",
       "        <tr>\n",
       "            <td>11</td>\n",
       "            <td>Brazilian Music</td>\n",
       "        </tr>\n",
       "        <tr>\n",
       "            <td>12</td>\n",
       "            <td>Classical</td>\n",
       "        </tr>\n",
       "        <tr>\n",
       "            <td>13</td>\n",
       "            <td>Classical 101 - Deep Cuts</td>\n",
       "        </tr>\n",
       "        <tr>\n",
       "            <td>14</td>\n",
       "            <td>Classical 101 - Next Steps</td>\n",
       "        </tr>\n",
       "        <tr>\n",
       "            <td>15</td>\n",
       "            <td>Classical 101 - The Basics</td>\n",
       "        </tr>\n",
       "        <tr>\n",
       "            <td>16</td>\n",
       "            <td>Grunge</td>\n",
       "        </tr>\n",
       "        <tr>\n",
       "            <td>17</td>\n",
       "            <td>Heavy Metal Classic</td>\n",
       "        </tr>\n",
       "        <tr>\n",
       "            <td>18</td>\n",
       "            <td>On-The-Go 1</td>\n",
       "        </tr>\n",
       "    </tbody>\n",
       "</table>"
      ],
      "text/plain": [
       "[(1, 'Music'),\n",
       " (2, 'Movies'),\n",
       " (3, 'TV Shows'),\n",
       " (4, 'Audiobooks'),\n",
       " (5, '90’s Music'),\n",
       " (6, 'Audiobooks'),\n",
       " (7, 'Movies'),\n",
       " (8, 'Music'),\n",
       " (9, 'Music Videos'),\n",
       " (10, 'TV Shows'),\n",
       " (11, 'Brazilian Music'),\n",
       " (12, 'Classical'),\n",
       " (13, 'Classical 101 - Deep Cuts'),\n",
       " (14, 'Classical 101 - Next Steps'),\n",
       " (15, 'Classical 101 - The Basics'),\n",
       " (16, 'Grunge'),\n",
       " (17, 'Heavy Metal Classic'),\n",
       " (18, 'On-The-Go 1')]"
      ]
     },
     "execution_count": 16,
     "metadata": {},
     "output_type": "execute_result"
    }
   ],
   "source": [
    "%%sql\n",
    "SELECT * from playlists;"
   ]
  },
  {
   "cell_type": "markdown",
   "id": "de8c00d3",
   "metadata": {},
   "source": [
    "##Task 1 Selecting albums to purchase\n",
    "\n",
    "The Chinook record store has just signed a deal with a new record label, and wants to select the first three albums that will be added to the store, from a list of four. All four albums are by artists that don't have any tracks in the store right now. Below are the artist names, and the genre of music they produce:\n",
    "\n",
    "alt url\n",
    "\n",
    "The record label specializes in artists from the USA, and they have given Chinook some money to advertise the new albums in the USA, so we're interested in finding out which genres sell the best in the USA."
   ]
  },
  {
   "cell_type": "markdown",
   "id": "074b0ff2",
   "metadata": {},
   "source": [
    "Write a query that returns each genre, with the number of tracks sold in the USA in absolute numbers and in percentages."
   ]
  },
  {
   "cell_type": "code",
   "execution_count": 12,
   "id": "6ad89003",
   "metadata": {},
   "outputs": [
    {
     "name": "stdout",
     "output_type": "stream",
     "text": [
      " * sqlite:///chinook.db\n",
      "Done.\n"
     ]
    },
    {
     "data": {
      "text/html": [
       "<table>\n",
       "    <thead>\n",
       "        <tr>\n",
       "            <th>Name</th>\n",
       "            <th>No_of_Tracks_Sold</th>\n",
       "            <th>Percentage_of_Tracks_Sold</th>\n",
       "        </tr>\n",
       "    </thead>\n",
       "    <tbody>\n",
       "        <tr>\n",
       "            <td>Alternative</td>\n",
       "            <td>5</td>\n",
       "            <td>1.0</td>\n",
       "        </tr>\n",
       "        <tr>\n",
       "            <td>Alternative &amp; Punk</td>\n",
       "            <td>50</td>\n",
       "            <td>10.1</td>\n",
       "        </tr>\n",
       "        <tr>\n",
       "            <td>Blues</td>\n",
       "            <td>15</td>\n",
       "            <td>3.0</td>\n",
       "        </tr>\n",
       "        <tr>\n",
       "            <td>Bossa Nova</td>\n",
       "            <td>7</td>\n",
       "            <td>1.4</td>\n",
       "        </tr>\n",
       "        <tr>\n",
       "            <td>Classical</td>\n",
       "            <td>8</td>\n",
       "            <td>1.6</td>\n",
       "        </tr>\n",
       "        <tr>\n",
       "            <td>Comedy</td>\n",
       "            <td>8</td>\n",
       "            <td>1.6</td>\n",
       "        </tr>\n",
       "        <tr>\n",
       "            <td>Drama</td>\n",
       "            <td>6</td>\n",
       "            <td>1.2</td>\n",
       "        </tr>\n",
       "        <tr>\n",
       "            <td>Easy Listening</td>\n",
       "            <td>3</td>\n",
       "            <td>0.6</td>\n",
       "        </tr>\n",
       "        <tr>\n",
       "            <td>Heavy Metal</td>\n",
       "            <td>4</td>\n",
       "            <td>0.8</td>\n",
       "        </tr>\n",
       "        <tr>\n",
       "            <td>Hip Hop/Rap</td>\n",
       "            <td>4</td>\n",
       "            <td>0.8</td>\n",
       "        </tr>\n",
       "        <tr>\n",
       "            <td>Jazz</td>\n",
       "            <td>22</td>\n",
       "            <td>4.5</td>\n",
       "        </tr>\n",
       "        <tr>\n",
       "            <td>Latin</td>\n",
       "            <td>91</td>\n",
       "            <td>18.4</td>\n",
       "        </tr>\n",
       "        <tr>\n",
       "            <td>Metal</td>\n",
       "            <td>64</td>\n",
       "            <td>13.0</td>\n",
       "        </tr>\n",
       "        <tr>\n",
       "            <td>Pop</td>\n",
       "            <td>5</td>\n",
       "            <td>1.0</td>\n",
       "        </tr>\n",
       "        <tr>\n",
       "            <td>R&amp;B/Soul</td>\n",
       "            <td>12</td>\n",
       "            <td>2.4</td>\n",
       "        </tr>\n",
       "        <tr>\n",
       "            <td>Reggae</td>\n",
       "            <td>6</td>\n",
       "            <td>1.2</td>\n",
       "        </tr>\n",
       "        <tr>\n",
       "            <td>Rock</td>\n",
       "            <td>157</td>\n",
       "            <td>31.8</td>\n",
       "        </tr>\n",
       "        <tr>\n",
       "            <td>Rock And Roll</td>\n",
       "            <td>3</td>\n",
       "            <td>0.6</td>\n",
       "        </tr>\n",
       "        <tr>\n",
       "            <td>Sci Fi &amp; Fantasy</td>\n",
       "            <td>5</td>\n",
       "            <td>1.0</td>\n",
       "        </tr>\n",
       "        <tr>\n",
       "            <td>Science Fiction</td>\n",
       "            <td>1</td>\n",
       "            <td>0.2</td>\n",
       "        </tr>\n",
       "        <tr>\n",
       "            <td>Soundtrack</td>\n",
       "            <td>4</td>\n",
       "            <td>0.8</td>\n",
       "        </tr>\n",
       "        <tr>\n",
       "            <td>TV Shows</td>\n",
       "            <td>14</td>\n",
       "            <td>2.8</td>\n",
       "        </tr>\n",
       "    </tbody>\n",
       "</table>"
      ],
      "text/plain": [
       "[('Alternative', 5, 1.0),\n",
       " ('Alternative & Punk', 50, 10.1),\n",
       " ('Blues', 15, 3.0),\n",
       " ('Bossa Nova', 7, 1.4),\n",
       " ('Classical', 8, 1.6),\n",
       " ('Comedy', 8, 1.6),\n",
       " ('Drama', 6, 1.2),\n",
       " ('Easy Listening', 3, 0.6),\n",
       " ('Heavy Metal', 4, 0.8),\n",
       " ('Hip Hop/Rap', 4, 0.8),\n",
       " ('Jazz', 22, 4.5),\n",
       " ('Latin', 91, 18.4),\n",
       " ('Metal', 64, 13.0),\n",
       " ('Pop', 5, 1.0),\n",
       " ('R&B/Soul', 12, 2.4),\n",
       " ('Reggae', 6, 1.2),\n",
       " ('Rock', 157, 31.8),\n",
       " ('Rock And Roll', 3, 0.6),\n",
       " ('Sci Fi & Fantasy', 5, 1.0),\n",
       " ('Science Fiction', 1, 0.2),\n",
       " ('Soundtrack', 4, 0.8),\n",
       " ('TV Shows', 14, 2.8)]"
      ]
     },
     "execution_count": 12,
     "metadata": {},
     "output_type": "execute_result"
    }
   ],
   "source": [
    "%%sql\n",
    "select g.name, count(ii.trackid) as No_of_Tracks_Sold,\n",
    "round(count(*) * 100.0 / sum(count(*)) over(), 1) as Percentage_of_Tracks_Sold \n",
    "from genres g\n",
    "join tracks t on\n",
    "g.genreid = t.genreid\n",
    "join invoice_items ii ON\n",
    "t.trackid = ii.trackid\n",
    "where ii.invoiceid in (SELECT\n",
    "i.invoiceid\n",
    "from invoices i\n",
    "where billingcountry = 'USA')\n",
    "group by g.name;"
   ]
  },
  {
   "cell_type": "markdown",
   "id": "fd96de0f",
   "metadata": {},
   "source": [
    "**Conclusion**\n",
    "\n",
    "Let's look at the results above. USA based customers are the most interested in Rock music, which accounts to **31.8%** of all USA sales. The least popular genre is Science Fiction with **0.2%** of all sales.\n",
    "\n",
    "Now, the genres of the four albums Chinook wants to add to their store are: Hip-Hop, Punk, Pop, and Blues.\n",
    "From the table we can deduct, that these genres contribute to **0.8%**, **10.1%**, **1%**, and **3%** of all sales respectively. Basing on the genre sales pattern, Chinook should choose albums from these artists:\n",
    "* *Red Tone* (Punk)\n",
    "* *Meteor and the Girls* (Pop)\n",
    "* *Slim Jim Bites* (Blues)"
   ]
  },
  {
   "cell_type": "code",
   "execution_count": null,
   "id": "b4ef559a",
   "metadata": {},
   "outputs": [],
   "source": []
  },
  {
   "cell_type": "code",
   "execution_count": null,
   "id": "473823ad",
   "metadata": {},
   "outputs": [],
   "source": []
  },
  {
   "cell_type": "code",
   "execution_count": null,
   "id": "ad6ece9a",
   "metadata": {},
   "outputs": [],
   "source": []
  },
  {
   "cell_type": "code",
   "execution_count": null,
   "id": "4c39f207",
   "metadata": {},
   "outputs": [],
   "source": []
  },
  {
   "cell_type": "code",
   "execution_count": null,
   "id": "ad842aa8",
   "metadata": {},
   "outputs": [],
   "source": []
  },
  {
   "cell_type": "code",
   "execution_count": null,
   "id": "9a3f17d6",
   "metadata": {},
   "outputs": [],
   "source": []
  },
  {
   "cell_type": "code",
   "execution_count": null,
   "id": "edb35363",
   "metadata": {},
   "outputs": [],
   "source": []
  },
  {
   "cell_type": "code",
   "execution_count": null,
   "id": "468dd804",
   "metadata": {},
   "outputs": [],
   "source": []
  },
  {
   "cell_type": "code",
   "execution_count": null,
   "id": "942d83ec",
   "metadata": {},
   "outputs": [],
   "source": []
  },
  {
   "cell_type": "code",
   "execution_count": null,
   "id": "f2fa8391",
   "metadata": {},
   "outputs": [],
   "source": []
  },
  {
   "cell_type": "code",
   "execution_count": null,
   "id": "6f9ef4d6",
   "metadata": {},
   "outputs": [],
   "source": []
  }
 ],
 "metadata": {
  "kernelspec": {
   "display_name": "Python 3 (ipykernel)",
   "language": "python",
   "name": "python3"
  },
  "language_info": {
   "codemirror_mode": {
    "name": "ipython",
    "version": 3
   },
   "file_extension": ".py",
   "mimetype": "text/x-python",
   "name": "python",
   "nbconvert_exporter": "python",
   "pygments_lexer": "ipython3",
   "version": "3.10.9"
  }
 },
 "nbformat": 4,
 "nbformat_minor": 5
}
